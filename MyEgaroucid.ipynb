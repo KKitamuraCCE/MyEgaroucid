{
  "nbformat": 4,
  "nbformat_minor": 0,
  "metadata": {
    "colab": {
      "provenance": [],
      "mount_file_id": "1dS4KxtWnE8ECNYlNVHa66aGaTzSQqcGC",
      "authorship_tag": "ABX9TyPAZZCPIsZExv7Lof2wrR7I"
    },
    "kernelspec": {
      "name": "python3",
      "display_name": "Python 3"
    },
    "language_info": {
      "name": "python"
    }
  },
  "cells": [
    {
      "cell_type": "code",
      "source": [
        "%%file MyEgaroucid_console.cpp\n",
        "/*\n",
        "\tEgaroucid Project\n",
        "\n",
        "\t@file Egaroucid_console.cpp\n",
        "\t\tMain file for Console application\n",
        "\t@date 2021-2023\n",
        "\t@author Takuto Yamana (a.k.a. Nyanyan)\n",
        "\t@license GPL-3.0 license\n",
        "*/\n",
        "\n",
        "#include <iostream>\n",
        "#include \"/content/drive/MyDrive/MyIntern/engine/engine_all.hpp\"\n",
        "#include \"/content/drive/MyDrive/MyIntern/console/console_all.hpp\"\n",
        "\n",
        "void init_console(Options options){\n",
        "    thread_pool.resize(std::max(0, options.n_threads - 1));\n",
        "    bit_init();\n",
        "    mobility_init();\n",
        "    flip_init();\n",
        "    endsearch_init();\n",
        "    #if USE_MPC_PRE_CALCULATION\n",
        "        mpc_init();\n",
        "    #endif\n",
        "    hash_resize(DEFAULT_HASH_LEVEL, options.hash_level, options.binary_path, options.show_log);\n",
        "    stability_init();\n",
        "    if (!evaluate_init(options.eval_file, options.show_log))\n",
        "        std::exit(0);\n",
        "    if (!options.nobook)\n",
        "        book_init(options.book_file, options.show_log);\n",
        "    if (options.show_log)\n",
        "        std::cerr << \"initialized\" << std::endl;\n",
        "}\n",
        "\n",
        "int main(int argc, char* argv[]){\n",
        "    State state;\n",
        "    std::string binary_path = get_binary_path();\n",
        "    std::vector<Commandline_option> commandline_options = get_commandline_options(argc, argv);\n",
        "    Options options = get_options(commandline_options, binary_path);\n",
        "    print_special_commandline_options(commandline_options);\n",
        "    init_console(options);\n",
        "    execute_special_tasks();\n",
        "    execute_special_commandline_tasks(commandline_options, &options, &state);\n",
        "    Board_info board;\n",
        "    board.reset();\n",
        "    while (true){\n",
        "        if (options.gtp){\n",
        "            gtp_check_command(&board, &state, &options);\n",
        "        }else {\n",
        "            if (!options.quiet){\n",
        "                print_board_info(&board);\n",
        "                std::cout << std::endl;\n",
        "            }\n",
        "            if (!execute_special_tasks_loop(&board, &state, &options))\n",
        "                check_command(&board, &state, &options);\n",
        "        }\n",
        "    }\n",
        "    return 0;\n",
        "}"
      ],
      "metadata": {
        "colab": {
          "base_uri": "https://localhost:8080/"
        },
        "id": "VmTia3sBu3Y-",
        "outputId": "e08bc959-e290-4b8b-bbd2-bfc9c5213011"
      },
      "execution_count": null,
      "outputs": [
        {
          "output_type": "stream",
          "name": "stdout",
          "text": [
            "Writing MyEgaroucid_console.cpp\n"
          ]
        }
      ]
    },
    {
      "cell_type": "code",
      "source": [
        "!g++ -O2 MyEgaroucid_console.cpp -o /content/drive/MyDrive/MyIntern/bin/MyEgaroucid_for_Console.out -mtune=native -march=native -mfpmath=both -pthread -std=c++17 -Wall -Wextra -DHAS_NO_AVX2"
      ],
      "metadata": {
        "colab": {
          "base_uri": "https://localhost:8080/"
        },
        "id": "jok89YSYu_AU",
        "outputId": "c0fb60cc-9626-4232-8c5a-22923002b9ba"
      },
      "execution_count": null,
      "outputs": [
        {
          "output_type": "stream",
          "name": "stdout",
          "text": [
            "In file included from \u001b[01m\u001b[K/content/drive/MyDrive/MyIntern/engine/midsearch.hpp:17\u001b[m\u001b[K,\n",
            "                 from \u001b[01m\u001b[K/content/drive/MyDrive/MyIntern/engine/ai.hpp:17\u001b[m\u001b[K,\n",
            "                 from \u001b[01m\u001b[K/content/drive/MyDrive/MyIntern/engine/engine_all.hpp:12\u001b[m\u001b[K,\n",
            "                 from \u001b[01m\u001b[KMyEgaroucid_console.cpp:12\u001b[m\u001b[K:\n",
            "\u001b[01m\u001b[K/content/drive/MyDrive/MyIntern/engine/common.hpp:\u001b[m\u001b[K In function ‘\u001b[01m\u001b[Kint get_localtime(tm*, time_t*)\u001b[m\u001b[K’:\n",
            "\u001b[01m\u001b[K/content/drive/MyDrive/MyIntern/engine/common.hpp:182:27:\u001b[m\u001b[K \u001b[01;35m\u001b[Kwarning: \u001b[m\u001b[Kparameter ‘\u001b[01m\u001b[Ka\u001b[m\u001b[K’ set but not used [\u001b[01;35m\u001b[K-Wunused-but-set-parameter\u001b[m\u001b[K]\n",
            "  182 |     int get_localtime(\u001b[01;35m\u001b[Ktm* a\u001b[m\u001b[K, time_t* b) {\n",
            "      |                       \u001b[01;35m\u001b[K~~~~^\u001b[m\u001b[K\n",
            "\u001b[01m\u001b[K/content/drive/MyDrive/MyIntern/engine/common.hpp:\u001b[m\u001b[K In function ‘\u001b[01m\u001b[Kvoid calc_date(int*, int*, int*, int*, int*, int*)\u001b[m\u001b[K’:\n",
            "\u001b[01m\u001b[K/content/drive/MyDrive/MyIntern/engine/common.hpp:221:21:\u001b[m\u001b[K \u001b[01;35m\u001b[Kwarning: \u001b[m\u001b[K‘\u001b[01m\u001b[Knewtime.tm::tm_year\u001b[m\u001b[K’ is used uninitialized in this function [\u001b[01;35m\u001b[K-Wuninitialized\u001b[m\u001b[K]\n",
            "  221 |     *year = \u001b[01;35m\u001b[Knewtime.tm_year\u001b[m\u001b[K + 1900;\n",
            "      |             \u001b[01;35m\u001b[K~~~~~~~~^~~~~~~\u001b[m\u001b[K\n",
            "\u001b[01m\u001b[K/content/drive/MyDrive/MyIntern/engine/common.hpp:222:22:\u001b[m\u001b[K \u001b[01;35m\u001b[Kwarning: \u001b[m\u001b[K‘\u001b[01m\u001b[Knewtime.tm::tm_mon\u001b[m\u001b[K’ is used uninitialized in this function [\u001b[01;35m\u001b[K-Wuninitialized\u001b[m\u001b[K]\n",
            "  222 |     *month = \u001b[01;35m\u001b[Knewtime.tm_mon\u001b[m\u001b[K + 1;\n",
            "      |              \u001b[01;35m\u001b[K~~~~~~~~^~~~~~\u001b[m\u001b[K\n",
            "\u001b[01m\u001b[K/content/drive/MyDrive/MyIntern/engine/common.hpp:223:20:\u001b[m\u001b[K \u001b[01;35m\u001b[Kwarning: \u001b[m\u001b[K‘\u001b[01m\u001b[Knewtime.tm::tm_mday\u001b[m\u001b[K’ is used uninitialized in this function [\u001b[01;35m\u001b[K-Wuninitialized\u001b[m\u001b[K]\n",
            "  223 |     *day = \u001b[01;35m\u001b[Knewtime.tm_mday\u001b[m\u001b[K;\n",
            "      |            \u001b[01;35m\u001b[K~~~~~~~~^~~~~~~\u001b[m\u001b[K\n",
            "\u001b[01m\u001b[K/content/drive/MyDrive/MyIntern/engine/common.hpp:224:21:\u001b[m\u001b[K \u001b[01;35m\u001b[Kwarning: \u001b[m\u001b[K‘\u001b[01m\u001b[Knewtime.tm::tm_hour\u001b[m\u001b[K’ is used uninitialized in this function [\u001b[01;35m\u001b[K-Wuninitialized\u001b[m\u001b[K]\n",
            "  224 |     *hour = \u001b[01;35m\u001b[Knewtime.tm_hour\u001b[m\u001b[K;\n",
            "      |             \u001b[01;35m\u001b[K~~~~~~~~^~~~~~~\u001b[m\u001b[K\n",
            "\u001b[01m\u001b[K/content/drive/MyDrive/MyIntern/engine/common.hpp:225:23:\u001b[m\u001b[K \u001b[01;35m\u001b[Kwarning: \u001b[m\u001b[K‘\u001b[01m\u001b[Knewtime.tm::tm_min\u001b[m\u001b[K’ is used uninitialized in this function [\u001b[01;35m\u001b[K-Wuninitialized\u001b[m\u001b[K]\n",
            "  225 |     *minute = \u001b[01;35m\u001b[Knewtime.tm_min\u001b[m\u001b[K;\n",
            "      |               \u001b[01;35m\u001b[K~~~~~~~~^~~~~~\u001b[m\u001b[K\n",
            "\u001b[01m\u001b[K/content/drive/MyDrive/MyIntern/engine/common.hpp:226:23:\u001b[m\u001b[K \u001b[01;35m\u001b[Kwarning: \u001b[m\u001b[K‘\u001b[01m\u001b[Knewtime.tm::tm_sec\u001b[m\u001b[K’ is used uninitialized in this function [\u001b[01;35m\u001b[K-Wuninitialized\u001b[m\u001b[K]\n",
            "  226 |     *second = \u001b[01;35m\u001b[Knewtime.tm_sec\u001b[m\u001b[K;\n",
            "      |               \u001b[01;35m\u001b[K~~~~~~~~^~~~~~\u001b[m\u001b[K\n",
            "\u001b[01m\u001b[K/content/drive/MyDrive/MyIntern/engine/common.hpp:\u001b[m\u001b[K In function ‘\u001b[01m\u001b[Kstd::string calc_date()\u001b[m\u001b[K’:\n",
            "\u001b[01m\u001b[K/content/drive/MyDrive/MyIntern/engine/common.hpp:194:47:\u001b[m\u001b[K \u001b[01;35m\u001b[Kwarning: \u001b[m\u001b[K‘\u001b[01m\u001b[Knewtime.tm::tm_year\u001b[m\u001b[K’ may be used uninitialized in this function [\u001b[01;35m\u001b[K-Wmaybe-uninitialized\u001b[m\u001b[K]\n",
            "  194 |     std::string year = std::to_string(\u001b[01;35m\u001b[Knewtime.tm_year\u001b[m\u001b[K + 1900);\n",
            "      |                                       \u001b[01;35m\u001b[K~~~~~~~~^~~~~~~\u001b[m\u001b[K\n",
            "\u001b[01m\u001b[K/content/drive/MyDrive/MyIntern/engine/common.hpp:195:58:\u001b[m\u001b[K \u001b[01;35m\u001b[Kwarning: \u001b[m\u001b[K‘\u001b[01m\u001b[Knewtime.tm::tm_mon\u001b[m\u001b[K’ may be used uninitialized in this function [\u001b[01;35m\u001b[K-Wmaybe-uninitialized\u001b[m\u001b[K]\n",
            "  195 |     sout << std::setfill('0') << std::setw(2) << \u001b[01;35m\u001b[Knewtime.tm_mon\u001b[m\u001b[K + 1;\n",
            "      |                                                  \u001b[01;35m\u001b[K~~~~~~~~^~~~~~\u001b[m\u001b[K\n",
            "\u001b[01m\u001b[K/content/drive/MyDrive/MyIntern/engine/common.hpp:199:58:\u001b[m\u001b[K \u001b[01;35m\u001b[Kwarning: \u001b[m\u001b[K‘\u001b[01m\u001b[Knewtime.tm::tm_mday\u001b[m\u001b[K’ may be used uninitialized in this function [\u001b[01;35m\u001b[K-Wmaybe-uninitialized\u001b[m\u001b[K]\n",
            "  199 |     sout << std::setfill('0') << std::setw(2) << newtime.\u001b[01;35m\u001b[Ktm_mday\u001b[m\u001b[K;\n",
            "      |                                                          \u001b[01;35m\u001b[K^~~~~~~\u001b[m\u001b[K\n",
            "\u001b[01m\u001b[K/content/drive/MyDrive/MyIntern/engine/common.hpp:203:58:\u001b[m\u001b[K \u001b[01;35m\u001b[Kwarning: \u001b[m\u001b[K‘\u001b[01m\u001b[Knewtime.tm::tm_hour\u001b[m\u001b[K’ may be used uninitialized in this function [\u001b[01;35m\u001b[K-Wmaybe-uninitialized\u001b[m\u001b[K]\n",
            "  203 |     sout << std::setfill('0') << std::setw(2) << newtime.\u001b[01;35m\u001b[Ktm_hour\u001b[m\u001b[K;\n",
            "      |                                                          \u001b[01;35m\u001b[K^~~~~~~\u001b[m\u001b[K\n",
            "\u001b[01m\u001b[K/content/drive/MyDrive/MyIntern/engine/common.hpp:207:58:\u001b[m\u001b[K \u001b[01;35m\u001b[Kwarning: \u001b[m\u001b[K‘\u001b[01m\u001b[Knewtime.tm::tm_min\u001b[m\u001b[K’ may be used uninitialized in this function [\u001b[01;35m\u001b[K-Wmaybe-uninitialized\u001b[m\u001b[K]\n",
            "  207 |     sout << std::setfill('0') << std::setw(2) << newtime.\u001b[01;35m\u001b[Ktm_min\u001b[m\u001b[K;\n",
            "      |                                                          \u001b[01;35m\u001b[K^~~~~~\u001b[m\u001b[K\n",
            "\u001b[01m\u001b[K/content/drive/MyDrive/MyIntern/engine/common.hpp:211:58:\u001b[m\u001b[K \u001b[01;35m\u001b[Kwarning: \u001b[m\u001b[K‘\u001b[01m\u001b[Knewtime.tm::tm_sec\u001b[m\u001b[K’ may be used uninitialized in this function [\u001b[01;35m\u001b[K-Wmaybe-uninitialized\u001b[m\u001b[K]\n",
            "  211 |     sout << std::setfill('0') << std::setw(2) << newtime.\u001b[01;35m\u001b[Ktm_sec\u001b[m\u001b[K;\n",
            "      |                                                          \u001b[01;35m\u001b[K^~~~~~\u001b[m\u001b[K\n"
          ]
        }
      ]
    },
    {
      "cell_type": "code",
      "source": [
        "import subprocess\n",
        "\n",
        "level = \"16\"# 1~60 0:crash 読む手数\n",
        "# eval = \n",
        "\n",
        "myegaroucid = subprocess.Popen(('/content/drive/MyDrive/MyIntern/bin/MyEgaroucid_for_Console.out -quiet -nobook -level ' + level ).split(), stdin=subprocess.PIPE, stdout=subprocess.PIPE, stderr=subprocess.DEVNULL)\n",
        "# + ' -eval ' + eval\n",
        "\n"
      ],
      "metadata": {
        "id": "vTFpOdHpwtTR"
      },
      "execution_count": null,
      "outputs": []
    },
    {
      "cell_type": "code",
      "source": [
        "# setboard コマンドで盤面入力 \"-\",\"B\",\"W\"いずれか64ケタと\"B\",\"W\"で手番指定\n",
        "# setboard + \" \" + \"\"(64ケタ) + \"\"(1ケタ)\n",
        "\n",
        "# setboardコマンド生成\n",
        "cmd_ln = 'setboard '\n",
        "for i in range(8):\n",
        "    for j in range(8):\n",
        "        if board[i][j] == 'black': #仮\n",
        "            cmd_ln += 'B'\n",
        "        elif board[i][j] == 'white': #仮\n",
        "            cmd_ln += 'W'\n",
        "        else:\n",
        "            cmd_ln += '-'\n",
        "if player == 'black': #仮\n",
        "    cmd_ln += 'W'\n",
        "else:\n",
        "    cmd_ln += 'B'\n",
        "cmd_ln += '\\n'\n",
        "\n",
        "# setboardコマンド実行\n",
        "\n",
        "myegaroucid.stdin.write(cmd_ln.encode('utf-8'))\n",
        "myegaroucid.stdin.flush()\n",
        "myegaroucid.stdin.write('go\\n'.encode('utf-8'))\n",
        "myegaroucid.stdin.flush()\n"
      ],
      "metadata": {
        "id": "0kTheuB7WjOT"
      },
      "execution_count": null,
      "outputs": []
    },
    {
      "cell_type": "markdown",
      "source": [
        "上記setboard コマンドへの応答として、MyEgaroucid_for_Console.outがA1~H8までの評価関数を出力するように改造することが目標\n",
        "\n",
        "デフォルトの出力例(現状):\n",
        "\n",
        "最善手: … A2 …\n",
        "\n",
        "望ましい出力の変更例:\n",
        "\n",
        "A1: None\n",
        "\n",
        "A2: 16\n",
        "\n",
        ":\n",
        "\n",
        "H8: -16\n",
        "\n",
        "以上をPopen.stdout.readline()で回収し、盤面状の配列に戻す"
      ],
      "metadata": {
        "id": "v-c_NsAz5zRK"
      }
    },
    {
      "cell_type": "code",
      "source": [
        "#書きかけ\n",
        "\n",
        "eval_result = \n",
        "\n",
        "read_cmd_ln = ''\n",
        "while read_cmd_ln == '':\n",
        "    read_cmd_ln = myegaroucid.stdout.readline().decode().replace('\\n', '')\n",
        "#eval_result = \n",
        "\n",
        "\n",
        "\n",
        "\n",
        "\n"
      ],
      "metadata": {
        "id": "PlVt6TSh1nqA"
      },
      "execution_count": null,
      "outputs": []
    },
    {
      "cell_type": "code",
      "source": [
        "# MyEgaroucid_for_Console.outの終了\n",
        "\n",
        "myegaroucid.stdin.write('quit\\n'.encode('utf-8'))\n",
        "myegaroucid.stdin.flush()"
      ],
      "metadata": {
        "id": "Gg8d_m_7_NL7"
      },
      "execution_count": null,
      "outputs": []
    }
  ]
}